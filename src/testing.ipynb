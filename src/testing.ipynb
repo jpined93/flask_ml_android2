{
 "cells": [
  {
   "cell_type": "code",
   "execution_count": 1,
   "metadata": {},
   "outputs": [],
   "source": [
    "from flask import Flask, jsonify,request\n",
    "import pickle\n",
    "import tensorflow as tf\n",
    "from tensorflow import keras\n",
    "from PIL import Image\n",
    "import numpy as np\n",
    "import base64\n",
    "from io import BytesIO\n",
    "from rembg import remove"
   ]
  },
  {
   "cell_type": "code",
   "execution_count": 3,
   "metadata": {},
   "outputs": [],
   "source": [
    "MODEL_PATH=\"C:/Users/USUARIO/Desktop/GPC/flask_ml_android/src/\""
   ]
  },
  {
   "cell_type": "code",
   "execution_count": 4,
   "metadata": {},
   "outputs": [],
   "source": [
    "# Load Model\n",
    "#==============================================================================\n",
    "\n",
    "Model_json = MODEL_PATH+\"model.json\"\n",
    "#Model_weights = MODEL_PATH+\"model.h5\"\n",
    "\n",
    "model_json = open(Model_json, 'r')\n",
    "loaded_model_json = model_json.read()\n",
    "model_json.close()\n",
    "# model = tf.keras.models.model_from_json(loaded_model_json)\n",
    "# model.load_weights(Model_weights)\n",
    "\n",
    "models_path=[\"model_fito.h5\",\"model_mazorca_negra.h5\",\"model_monoliosis_ef.h5\",\"model_monoliosis_intermedia_sf.h5\"]\n",
    "models_=[]\n",
    "\n",
    "for path in models_path:\n",
    "    Model_weights = MODEL_PATH+path\n",
    "    tmp= tf.keras.models.model_from_json(loaded_model_json)\n",
    "    tmp.load_weights(Model_weights)\n",
    "    models_.append(tmp)"
   ]
  },
  {
   "cell_type": "code",
   "execution_count": 5,
   "metadata": {},
   "outputs": [],
   "source": [
    "#\"C:\\Users\\USUARIO\\Downloads\\testing images\\Fito26.jpg\"\n",
    "img_path=r\"C:\\Users\\USUARIO\\Downloads\\sano3.png\"\n",
    "#img_path=r\"D:\\experimentos\\MLFlowTesting\\Imagenes para experimentos\\Mazorca_SF\\train\\Sanos\\ima5.jpg\"\n",
    "img_removed= Image.open(img_path)\n",
    "img_removed=remove(img_removed)\n",
    "img_removed = img_removed.convert(mode='L')\n",
    "img_removed = img_removed.convert(mode='RGB')\n",
    "img_removed = img_removed.resize((300, 300))"
   ]
  },
  {
   "cell_type": "code",
   "execution_count": 6,
   "metadata": {},
   "outputs": [
    {
     "name": "stdout",
     "output_type": "stream",
     "text": [
      "preprocess compleated\n"
     ]
    }
   ],
   "source": [
    "x = tf.keras.utils.img_to_array(img_removed)\n",
    "x = np.true_divide(x, 255)\n",
    "x = np.expand_dims(x, axis=0)\n",
    "print (\"preprocess compleated\")"
   ]
  },
  {
   "cell_type": "code",
   "execution_count": 7,
   "metadata": {},
   "outputs": [
    {
     "name": "stdout",
     "output_type": "stream",
     "text": [
      "1/1 [==============================] - 6s 6s/step\n",
      "1/1 [==============================] - 0s 284ms/step\n",
      "1/1 [==============================] - 0s 265ms/step\n",
      "1/1 [==============================] - 0s 261ms/step\n"
     ]
    }
   ],
   "source": [
    "preds=[]\n",
    "\n",
    "for index,model in enumerate(models_):\n",
    "    individual_preds = model.predict(x)\n",
    "    individual_preds=individual_preds.tolist()[0]\n",
    "    preds.append(individual_preds[0]) "
   ]
  },
  {
   "cell_type": "code",
   "execution_count": 8,
   "metadata": {},
   "outputs": [
    {
     "data": {
      "text/plain": [
       "[0.2421351969242096,\n",
       " 0.06081056222319603,\n",
       " 0.05789434164762497,\n",
       " 0.12133316695690155]"
      ]
     },
     "execution_count": 8,
     "metadata": {},
     "output_type": "execute_result"
    }
   ],
   "source": [
    "preds"
   ]
  }
 ],
 "metadata": {
  "kernelspec": {
   "display_name": "gpu_env",
   "language": "python",
   "name": "python3"
  },
  "language_info": {
   "codemirror_mode": {
    "name": "ipython",
    "version": 3
   },
   "file_extension": ".py",
   "mimetype": "text/x-python",
   "name": "python",
   "nbconvert_exporter": "python",
   "pygments_lexer": "ipython3",
   "version": "3.9.16"
  },
  "orig_nbformat": 4
 },
 "nbformat": 4,
 "nbformat_minor": 2
}
